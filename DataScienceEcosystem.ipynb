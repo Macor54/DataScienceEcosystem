{
 "cells": [
  {
   "cell_type": "markdown",
   "id": "73fa10e3",
   "metadata": {},
   "source": [
    "# Data Science Tools and Ecosystem"
   ]
  },
  {
   "cell_type": "markdown",
   "id": "7a0458e9",
   "metadata": {},
   "source": [
    "_In this notebook, Data Science Tools and Ecosystem are summarized._"
   ]
  },
  {
   "cell_type": "markdown",
   "id": "90a9be66",
   "metadata": {},
   "source": [
    "**Objectives:**\n",
    "* List popular languages for Data Science\n",
    "* List commonly used libraries by Data Scientists\n",
    "* List of Development environment open source tools used in Data Science\n",
    "* How to run operations in python (add, multiply, divide, etc.)"
   ]
  },
  {
   "cell_type": "markdown",
   "id": "44eb4e96",
   "metadata": {},
   "source": [
    "### Some of the popular languages that Data Scientists use are:\n",
    "1. Python\n",
    "2. R\n",
    "3. SQL\n",
    "4. Scala\n",
    "5. Java\n",
    "6. C++\n",
    "7. Julia"
   ]
  },
  {
   "cell_type": "markdown",
   "id": "08b19424",
   "metadata": {},
   "source": [
    "### Some of the commonly used libraries used by Data Scientists include:\n",
    "Python:\n",
    "1. Pandas (Scientific Computing)\n",
    "2. Numpy (Scientific Computing)\n",
    "3. Matplotlib (Visualization)\n",
    "4. Seaborn (Visualization)\n",
    "5. Scikit-learn (Machine Learning and Deep Learning)\n",
    "6. Keras (Machine Learning and Deep Learning)\n",
    "7. TensorFlow (Deep Learning)\n",
    "8. PyTorch (Deep Learning)\n",
    "\n",
    "Scala:\n",
    "1. Vegas (Statistical Data Visualizations)\n",
    "2. Big DL (Deep Learning)\n",
    "\n",
    "R:\n",
    "1. ggplot2 (Data Visualization)\n",
    "2. dplyr (Data Manipulation)\n",
    "3. stringr (String Manipulation)\n",
    "4. caret (Machine Learning)"
   ]
  },
  {
   "cell_type": "markdown",
   "id": "b515371a",
   "metadata": {},
   "source": [
    "| Data Science Tools |\n",
    "| ------------------ |\n",
    "| Jupyter |\n",
    "| Jupyter Lab |\n",
    "| Apache Zeppelin |\n",
    "| RStudio |\n",
    "| Spyder |"
   ]
  },
  {
   "cell_type": "markdown",
   "id": "afe85435",
   "metadata": {},
   "source": [
    "### Below are a few examples of evaluating arithmetic expressions in Python"
   ]
  },
  {
   "cell_type": "code",
   "execution_count": 4,
   "id": "30e55095",
   "metadata": {},
   "outputs": [
    {
     "data": {
      "text/plain": [
       "17"
      ]
     },
     "execution_count": 4,
     "metadata": {},
     "output_type": "execute_result"
    }
   ],
   "source": [
    "# This is a simple arithmetic expression to multiply then add integers\n",
    "(3*4)+5"
   ]
  },
  {
   "cell_type": "code",
   "execution_count": 5,
   "id": "1ac02d01",
   "metadata": {},
   "outputs": [
    {
     "data": {
      "text/plain": [
       "3.3333333333333335"
      ]
     },
     "execution_count": 5,
     "metadata": {},
     "output_type": "execute_result"
    }
   ],
   "source": [
    "# This will convert 200 minutes to hours by diving by 60\n",
    "200/60"
   ]
  },
  {
   "cell_type": "markdown",
   "id": "663441d9",
   "metadata": {},
   "source": [
    "## Author\n",
    "Mario Cortez"
   ]
  }
 ],
 "metadata": {
  "kernelspec": {
   "display_name": "Python 3 (ipykernel)",
   "language": "python",
   "name": "python3"
  },
  "language_info": {
   "codemirror_mode": {
    "name": "ipython",
    "version": 3
   },
   "file_extension": ".py",
   "mimetype": "text/x-python",
   "name": "python",
   "nbconvert_exporter": "python",
   "pygments_lexer": "ipython3",
   "version": "3.10.5"
  }
 },
 "nbformat": 4,
 "nbformat_minor": 5
}
